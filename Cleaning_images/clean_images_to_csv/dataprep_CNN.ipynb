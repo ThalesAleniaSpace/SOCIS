{
  "nbformat": 4,
  "nbformat_minor": 0,
  "metadata": {
    "colab": {
      "name": "dataprep_CNN.ipynb",
      "provenance": [],
      "collapsed_sections": []
    },
    "kernelspec": {
      "name": "python3",
      "display_name": "Python 3"
    }
  },
  "cells": [
    {
      "cell_type": "code",
      "metadata": {
        "id": "xcnNBwZdgrDj",
        "colab_type": "code",
        "outputId": "359ab354-52b9-41f4-f122-28a6e1954af9",
        "colab": {
          "base_uri": "https://localhost:8080/",
          "height": 34
        }
      },
      "source": [
        "# Run this cell to mount your Google Drive.\n",
        "from google.colab import drive\n",
        "drive.mount('/content/drive')"
      ],
      "execution_count": 0,
      "outputs": [
        {
          "output_type": "stream",
          "text": [
            "Drive already mounted at /content/drive; to attempt to forcibly remount, call drive.mount(\"/content/drive\", force_remount=True).\n"
          ],
          "name": "stdout"
        }
      ]
    },
    {
      "cell_type": "code",
      "metadata": {
        "id": "AhEKTEAVgsG-",
        "colab_type": "code",
        "colab": {}
      },
      "source": [
        "\n",
        "import pandas as pd \n",
        "import numpy as np\n",
        "import matplotlib.pyplot as plt\n",
        "from sklearn import preprocessing "
      ],
      "execution_count": 0,
      "outputs": []
    },
    {
      "cell_type": "code",
      "metadata": {
        "id": "vMoJwzdNhCiC",
        "colab_type": "code",
        "outputId": "b4f797c5-19df-4118-f678-8951dd61c9b4",
        "colab": {
          "base_uri": "https://localhost:8080/",
          "height": 1000
        }
      },
      "source": [
        "\n",
        "data_v = pd.read_csv(\"drive/My Drive/INTERN/socis/CNN/clean_images_to_csv/image_clean.csv\",dtype=object,error_bad_lines=False )\n",
        "le = preprocessing.LabelEncoder()\n",
        "\n",
        "data_v['power_state_spec'] = le.fit_transform(data_v['power_state_spec'].astype('str'))\n",
        "\n",
        "data_v['power_state_value'] = le.fit_transform(data_v['power_state_value'].astype('str'))\n",
        "k = data_v[\"dir\"].astype('str') \n",
        "q = len(k)\n",
        "for i in range(q):\n",
        "  \n",
        "  l = len(k[i])\n",
        "  if(l==1):\n",
        "   \n",
        "#     print(k[i])\n",
        "    k[i]= \"00\"+str(k[i])\n",
        " \n",
        "#     print(k[i])\n",
        "#     print(\"----\")\n",
        "  if(l==2):\n",
        "#     print(k[i])\n",
        "    k[i]=\"0\"+str(k[i])\n",
        "    \n",
        "#     print(k[i])\n",
        "#     print(\"----\")\n",
        "  \n",
        "  \n",
        "leng = len(k)\n",
        "# print(leng)\n",
        "# print(type(k))\n",
        "data_v[\"dir\"] = k\n",
        "# print(k)\n",
        "# print(data_v[\"dir\"])\n",
        "data_v[\"id\"] = data_v[\"id\"].map(str) +\"_\"+k\n",
        "print(data_v[\"id\"])"
      ],
      "execution_count": 0,
      "outputs": [
        {
          "output_type": "stream",
          "text": [
            "0        ON_1_20181031_173504_104\n",
            "1       OFF_2_20181031_173628_104\n",
            "2        ON_3_20181031_173800_104\n",
            "3       OFF_4_20181031_173921_104\n",
            "4        ON_1_20181102_084600_103\n",
            "5       OFF_2_20181102_084723_103\n",
            "6        ON_3_20181102_084856_103\n",
            "7       OFF_4_20181102_085018_103\n",
            "8        ON_1_20181102_085847_102\n",
            "9       OFF_2_20181102_090016_102\n",
            "10       ON_3_20181102_090149_102\n",
            "11      OFF_4_20181102_090312_102\n",
            "12       ON_1_20181031_163301_105\n",
            "13      OFF_2_20181031_163423_105\n",
            "14       ON_3_20181031_163555_105\n",
            "15      OFF_4_20181031_164012_105\n",
            "16       ON_1_20190507_200536_023\n",
            "17      OFF_2_20190507_200720_023\n",
            "18       ON_3_20190507_200905_023\n",
            "19      OFF_4_20190507_201049_023\n",
            "20       ON_5_20190507_201233_023\n",
            "21      OFF_6_20190507_201417_023\n",
            "22       ON_7_20190507_201625_023\n",
            "23      OFF_8_20190507_201809_023\n",
            "24       ON_9_20190507_201951_023\n",
            "25     OFF_10_20190507_202134_023\n",
            "26      ON_11_20190507_202318_023\n",
            "27     OFF_12_20190507_202502_023\n",
            "28       ON_1_20181214_194019_015\n",
            "29      OFF_2_20181214_194147_015\n",
            "                  ...            \n",
            "739      ON_7_20190524_205926_067\n",
            "740     OFF_8_20190524_210107_067\n",
            "741      ON_9_20190524_210248_067\n",
            "742    OFF_10_20190524_210429_067\n",
            "743     ON_11_20190524_210610_067\n",
            "744    OFF_12_20190524_210751_067\n",
            "745      ON_1_20181126_112218_058\n",
            "746     OFF_2_20181126_112347_058\n",
            "747      ON_3_20181126_112530_058\n",
            "748     OFF_4_20181126_112659_058\n",
            "749      ON_1_20181126_103714_060\n",
            "750     OFF_2_20181126_103843_060\n",
            "751      ON_3_20181126_104026_060\n",
            "752     OFF_4_20181126_104155_060\n",
            "753      ON_1_20181116_230306_094\n",
            "754     OFF_2_20181116_230430_094\n",
            "755      ON_3_20181116_230608_094\n",
            "756     OFF_4_20181116_230732_094\n",
            "757      ON_1_20181105_201724_115\n",
            "758     OFF_2_20181105_201841_115\n",
            "759      ON_3_20181105_202008_115\n",
            "760     OFF_4_20181105_202125_115\n",
            "761      ON_1_20181117_171348_114\n",
            "762     OFF_2_20181117_171513_114\n",
            "763      ON_3_20181117_171650_114\n",
            "764     OFF_4_20181117_171814_114\n",
            "765      ON_1_20181113_232117_113\n",
            "766     OFF_2_20181113_232240_113\n",
            "767      ON_3_20181113_232417_113\n",
            "768     OFF_4_20181113_232541_113\n",
            "Name: id, Length: 769, dtype: object\n"
          ],
          "name": "stdout"
        }
      ]
    },
    {
      "cell_type": "code",
      "metadata": {
        "id": "sc3c4FCOh3tn",
        "colab_type": "code",
        "colab": {}
      },
      "source": [
        "arr_v = data_v.values"
      ],
      "execution_count": 0,
      "outputs": []
    },
    {
      "cell_type": "code",
      "metadata": {
        "id": "-Uw31t6XiBw3",
        "colab_type": "code",
        "outputId": "990d4d4d-96e9-492d-af7b-404279af15b2",
        "colab": {
          "base_uri": "https://localhost:8080/",
          "height": 136
        }
      },
      "source": [
        "arr_v = arr_v[0:]\n",
        "print(arr_v)"
      ],
      "execution_count": 0,
      "outputs": [
        {
          "output_type": "stream",
          "text": [
            "[['1' 'ON_1_20181031_173504_104' '104' ... 'NC' 'C' 'C']\n",
            " ['2' 'OFF_2_20181031_173628_104' '104' ... 'C' 'C' 'C']\n",
            " ['3' 'ON_3_20181031_173800_104' '104' ... 'NC' 'C' 'C']\n",
            " ...\n",
            " ['767' 'OFF_2_20181113_232240_113' '113' ... 'C' 'NC' 'C']\n",
            " ['768' 'ON_3_20181113_232417_113' '113' ... 'C' 'C' 'C']\n",
            " ['769' 'OFF_4_20181113_232541_113' '113' ... 'C' 'NC' 'C']]\n"
          ],
          "name": "stdout"
        }
      ]
    },
    {
      "cell_type": "code",
      "metadata": {
        "id": "c6MOdLLZiFZW",
        "colab_type": "code",
        "outputId": "f2017d38-040e-45e7-ea27-6f5f94114e3b",
        "colab": {
          "base_uri": "https://localhost:8080/",
          "height": 289
        }
      },
      "source": [
        "ON_list =[]\n",
        "OFF_list = []\n",
        "for i in range(len(arr_v)):\n",
        "    s = arr_v[i][1]\n",
        "    s = str(s)\n",
        "    \n",
        "#     print(type(st))\n",
        "    if s.find(\"N\") == -1:\n",
        "        OFF_list.append(arr_v[i])\n",
        "    \n",
        "    else:\n",
        "        ON_list.append(arr_v[i])\n",
        "# calculating for ON\n",
        "print(len(ON_list),\"ON\")\n",
        "print(len(OFF_list),\"OFF\")\n",
        "arr_on_v = np.array(ON_list)\n",
        "arr_off_v = np.array(OFF_list)\n",
        "print(arr_on_v)\n",
        "print(arr_off_v)"
      ],
      "execution_count": 0,
      "outputs": [
        {
          "output_type": "stream",
          "text": [
            "386 ON\n",
            "383 OFF\n",
            "[['1' 'ON_1_20181031_173504_104' '104' ... 'NC' 'C' 'C']\n",
            " ['3' 'ON_3_20181031_173800_104' '104' ... 'NC' 'C' 'C']\n",
            " ['5' 'ON_1_20181102_084600_103' '103' ... 'C' 'C' 'C']\n",
            " ...\n",
            " ['764' 'ON_3_20181117_171650_114' '114' ... 'C' 'C' 'C']\n",
            " ['766' 'ON_1_20181113_232117_113' '113' ... 'C' 'C' 'C']\n",
            " ['768' 'ON_3_20181113_232417_113' '113' ... 'C' 'C' 'C']]\n",
            "[['2' 'OFF_2_20181031_173628_104' '104' ... 'C' 'C' 'C']\n",
            " ['4' 'OFF_4_20181031_173921_104' '104' ... 'C' 'C' 'C']\n",
            " ['6' 'OFF_2_20181102_084723_103' '103' ... 'C' 'C' 'C']\n",
            " ...\n",
            " ['765' 'OFF_4_20181117_171814_114' '114' ... 'C' 'NC' 'C']\n",
            " ['767' 'OFF_2_20181113_232240_113' '113' ... 'C' 'NC' 'C']\n",
            " ['769' 'OFF_4_20181113_232541_113' '113' ... 'C' 'NC' 'C']]\n"
          ],
          "name": "stdout"
        }
      ]
    },
    {
      "cell_type": "code",
      "metadata": {
        "id": "umpGgMseiIzI",
        "colab_type": "code",
        "outputId": "0a0f9d68-5096-4541-b40e-53895171fdd8",
        "colab": {
          "base_uri": "https://localhost:8080/",
          "height": 261
        }
      },
      "source": [
        "dataset_on = pd.DataFrame({'S.no': arr_on_v[:, 0], 'File_id': arr_on_v[:, 1], 'Path': arr_on_v[:,3], 'power_state_value':arr_on_v[:,4],'current_rise/fall_time_value (mS)':arr_on_v[:,5],'current_stabilised_value (mA)': arr_on_v[:,6],'current_max/min_value (mA)':arr_on_v[:,7]  })\n",
        "dataset_on.head()"
      ],
      "execution_count": 0,
      "outputs": [
        {
          "output_type": "execute_result",
          "data": {
            "text/html": [
              "<div>\n",
              "<style scoped>\n",
              "    .dataframe tbody tr th:only-of-type {\n",
              "        vertical-align: middle;\n",
              "    }\n",
              "\n",
              "    .dataframe tbody tr th {\n",
              "        vertical-align: top;\n",
              "    }\n",
              "\n",
              "    .dataframe thead th {\n",
              "        text-align: right;\n",
              "    }\n",
              "</style>\n",
              "<table border=\"1\" class=\"dataframe\">\n",
              "  <thead>\n",
              "    <tr style=\"text-align: right;\">\n",
              "      <th></th>\n",
              "      <th>S.no</th>\n",
              "      <th>File_id</th>\n",
              "      <th>Path</th>\n",
              "      <th>power_state_value</th>\n",
              "      <th>current_rise/fall_time_value (mS)</th>\n",
              "      <th>current_stabilised_value (mA)</th>\n",
              "      <th>current_max/min_value (mA)</th>\n",
              "    </tr>\n",
              "  </thead>\n",
              "  <tbody>\n",
              "    <tr>\n",
              "      <th>0</th>\n",
              "      <td>1</td>\n",
              "      <td>ON_1_20181031_173504_104</td>\n",
              "      <td>ON_1_20181031_173504_104.bmp</td>\n",
              "      <td>1</td>\n",
              "      <td>89.99</td>\n",
              "      <td>150.0</td>\n",
              "      <td>405.9922</td>\n",
              "    </tr>\n",
              "    <tr>\n",
              "      <th>1</th>\n",
              "      <td>3</td>\n",
              "      <td>ON_3_20181031_173800_104</td>\n",
              "      <td>ON_3_20181031_173800_104.bmp</td>\n",
              "      <td>1</td>\n",
              "      <td>89.95</td>\n",
              "      <td>140.0</td>\n",
              "      <td>405.9922</td>\n",
              "    </tr>\n",
              "    <tr>\n",
              "      <th>2</th>\n",
              "      <td>5</td>\n",
              "      <td>ON_1_20181102_084600_103</td>\n",
              "      <td>ON_1_20181102_084600_103.bmp</td>\n",
              "      <td>1</td>\n",
              "      <td>56.65</td>\n",
              "      <td>169.8</td>\n",
              "      <td>405.9922</td>\n",
              "    </tr>\n",
              "    <tr>\n",
              "      <th>3</th>\n",
              "      <td>7</td>\n",
              "      <td>ON_3_20181102_084856_103</td>\n",
              "      <td>ON_3_20181102_084856_103.bmp</td>\n",
              "      <td>1</td>\n",
              "      <td>36.97</td>\n",
              "      <td>166.3</td>\n",
              "      <td>405.9922</td>\n",
              "    </tr>\n",
              "    <tr>\n",
              "      <th>4</th>\n",
              "      <td>9</td>\n",
              "      <td>ON_1_20181102_085847_102</td>\n",
              "      <td>ON_1_20181102_085847_102.bmp</td>\n",
              "      <td>1</td>\n",
              "      <td>37.04</td>\n",
              "      <td>170.0</td>\n",
              "      <td>401.3125</td>\n",
              "    </tr>\n",
              "  </tbody>\n",
              "</table>\n",
              "</div>"
            ],
            "text/plain": [
              "  S.no  ... current_max/min_value (mA)\n",
              "0    1  ...                   405.9922\n",
              "1    3  ...                   405.9922\n",
              "2    5  ...                   405.9922\n",
              "3    7  ...                   405.9922\n",
              "4    9  ...                   401.3125\n",
              "\n",
              "[5 rows x 7 columns]"
            ]
          },
          "metadata": {
            "tags": []
          },
          "execution_count": 7
        }
      ]
    },
    {
      "cell_type": "code",
      "metadata": {
        "id": "m1uzjpYglkap",
        "colab_type": "code",
        "outputId": "37b0bad0-085a-44b1-a406-97cd5f40d231",
        "colab": {
          "base_uri": "https://localhost:8080/",
          "height": 261
        }
      },
      "source": [
        "dataset_off = pd.DataFrame({'S.no': arr_off_v[:, 0], 'File_id': arr_off_v[:, 1], 'Path': arr_off_v[:,3], 'power_state_value':arr_off_v[:,4],'current_rise/fall_time_value (mS)':arr_off_v[:,5],'current_stabilised_value (mA)': arr_off_v[:,6],'current_max/min_value (mA)':arr_off_v[:,7]  })\n",
        "dataset_off.head()"
      ],
      "execution_count": 0,
      "outputs": [
        {
          "output_type": "execute_result",
          "data": {
            "text/html": [
              "<div>\n",
              "<style scoped>\n",
              "    .dataframe tbody tr th:only-of-type {\n",
              "        vertical-align: middle;\n",
              "    }\n",
              "\n",
              "    .dataframe tbody tr th {\n",
              "        vertical-align: top;\n",
              "    }\n",
              "\n",
              "    .dataframe thead th {\n",
              "        text-align: right;\n",
              "    }\n",
              "</style>\n",
              "<table border=\"1\" class=\"dataframe\">\n",
              "  <thead>\n",
              "    <tr style=\"text-align: right;\">\n",
              "      <th></th>\n",
              "      <th>S.no</th>\n",
              "      <th>File_id</th>\n",
              "      <th>Path</th>\n",
              "      <th>power_state_value</th>\n",
              "      <th>current_rise/fall_time_value (mS)</th>\n",
              "      <th>current_stabilised_value (mA)</th>\n",
              "      <th>current_max/min_value (mA)</th>\n",
              "    </tr>\n",
              "  </thead>\n",
              "  <tbody>\n",
              "    <tr>\n",
              "      <th>0</th>\n",
              "      <td>2</td>\n",
              "      <td>OFF_2_20181031_173628_104</td>\n",
              "      <td>OFF_2_20181031_173628_104.bmp</td>\n",
              "      <td>0</td>\n",
              "      <td>7.992</td>\n",
              "      <td>30.0</td>\n",
              "      <td>-56.0</td>\n",
              "    </tr>\n",
              "    <tr>\n",
              "      <th>1</th>\n",
              "      <td>4</td>\n",
              "      <td>OFF_4_20181031_173921_104</td>\n",
              "      <td>OFF_4_20181031_173921_104.bmp</td>\n",
              "      <td>0</td>\n",
              "      <td>7.997</td>\n",
              "      <td>30.0</td>\n",
              "      <td>-58.0</td>\n",
              "    </tr>\n",
              "    <tr>\n",
              "      <th>2</th>\n",
              "      <td>6</td>\n",
              "      <td>OFF_2_20181102_084723_103</td>\n",
              "      <td>OFF_2_20181102_084723_103.bmp</td>\n",
              "      <td>0</td>\n",
              "      <td>8.0</td>\n",
              "      <td>56.4</td>\n",
              "      <td>-32.0</td>\n",
              "    </tr>\n",
              "    <tr>\n",
              "      <th>3</th>\n",
              "      <td>8</td>\n",
              "      <td>OFF_4_20181102_085018_103</td>\n",
              "      <td>OFF_4_20181102_085018_103.bmp</td>\n",
              "      <td>0</td>\n",
              "      <td>8.0</td>\n",
              "      <td>58.0</td>\n",
              "      <td>-28.0</td>\n",
              "    </tr>\n",
              "    <tr>\n",
              "      <th>4</th>\n",
              "      <td>10</td>\n",
              "      <td>OFF_2_20181102_090016_102</td>\n",
              "      <td>OFF_2_20181102_090016_102.bmp</td>\n",
              "      <td>0</td>\n",
              "      <td>4.377</td>\n",
              "      <td>55.1</td>\n",
              "      <td>-26.4219</td>\n",
              "    </tr>\n",
              "  </tbody>\n",
              "</table>\n",
              "</div>"
            ],
            "text/plain": [
              "  S.no  ... current_max/min_value (mA)\n",
              "0    2  ...                      -56.0\n",
              "1    4  ...                      -58.0\n",
              "2    6  ...                      -32.0\n",
              "3    8  ...                      -28.0\n",
              "4   10  ...                   -26.4219\n",
              "\n",
              "[5 rows x 7 columns]"
            ]
          },
          "metadata": {
            "tags": []
          },
          "execution_count": 8
        }
      ]
    },
    {
      "cell_type": "code",
      "metadata": {
        "id": "s-JQNJ5mmizq",
        "colab_type": "code",
        "outputId": "5813bdaa-1adf-4014-abbb-a0866c743645",
        "colab": {
          "base_uri": "https://localhost:8080/",
          "height": 221
        }
      },
      "source": [
        "df_on = dataset_on.iloc[:,2:7].copy() \n",
        "df_on.head()"
      ],
      "execution_count": 0,
      "outputs": [
        {
          "output_type": "execute_result",
          "data": {
            "text/html": [
              "<div>\n",
              "<style scoped>\n",
              "    .dataframe tbody tr th:only-of-type {\n",
              "        vertical-align: middle;\n",
              "    }\n",
              "\n",
              "    .dataframe tbody tr th {\n",
              "        vertical-align: top;\n",
              "    }\n",
              "\n",
              "    .dataframe thead th {\n",
              "        text-align: right;\n",
              "    }\n",
              "</style>\n",
              "<table border=\"1\" class=\"dataframe\">\n",
              "  <thead>\n",
              "    <tr style=\"text-align: right;\">\n",
              "      <th></th>\n",
              "      <th>Path</th>\n",
              "      <th>power_state_value</th>\n",
              "      <th>current_rise/fall_time_value (mS)</th>\n",
              "      <th>current_stabilised_value (mA)</th>\n",
              "      <th>current_max/min_value (mA)</th>\n",
              "    </tr>\n",
              "  </thead>\n",
              "  <tbody>\n",
              "    <tr>\n",
              "      <th>0</th>\n",
              "      <td>ON_1_20181031_173504_104.bmp</td>\n",
              "      <td>1</td>\n",
              "      <td>89.99</td>\n",
              "      <td>150.0</td>\n",
              "      <td>405.9922</td>\n",
              "    </tr>\n",
              "    <tr>\n",
              "      <th>1</th>\n",
              "      <td>ON_3_20181031_173800_104.bmp</td>\n",
              "      <td>1</td>\n",
              "      <td>89.95</td>\n",
              "      <td>140.0</td>\n",
              "      <td>405.9922</td>\n",
              "    </tr>\n",
              "    <tr>\n",
              "      <th>2</th>\n",
              "      <td>ON_1_20181102_084600_103.bmp</td>\n",
              "      <td>1</td>\n",
              "      <td>56.65</td>\n",
              "      <td>169.8</td>\n",
              "      <td>405.9922</td>\n",
              "    </tr>\n",
              "    <tr>\n",
              "      <th>3</th>\n",
              "      <td>ON_3_20181102_084856_103.bmp</td>\n",
              "      <td>1</td>\n",
              "      <td>36.97</td>\n",
              "      <td>166.3</td>\n",
              "      <td>405.9922</td>\n",
              "    </tr>\n",
              "    <tr>\n",
              "      <th>4</th>\n",
              "      <td>ON_1_20181102_085847_102.bmp</td>\n",
              "      <td>1</td>\n",
              "      <td>37.04</td>\n",
              "      <td>170.0</td>\n",
              "      <td>401.3125</td>\n",
              "    </tr>\n",
              "  </tbody>\n",
              "</table>\n",
              "</div>"
            ],
            "text/plain": [
              "                           Path  ... current_max/min_value (mA)\n",
              "0  ON_1_20181031_173504_104.bmp  ...                   405.9922\n",
              "1  ON_3_20181031_173800_104.bmp  ...                   405.9922\n",
              "2  ON_1_20181102_084600_103.bmp  ...                   405.9922\n",
              "3  ON_3_20181102_084856_103.bmp  ...                   405.9922\n",
              "4  ON_1_20181102_085847_102.bmp  ...                   401.3125\n",
              "\n",
              "[5 rows x 5 columns]"
            ]
          },
          "metadata": {
            "tags": []
          },
          "execution_count": 9
        }
      ]
    },
    {
      "cell_type": "code",
      "metadata": {
        "id": "pifsVJp1niIj",
        "colab_type": "code",
        "colab": {}
      },
      "source": [
        "\n",
        "df_on.to_csv(\"drive/My Drive/INTERN/socis/CNN/clean_images_to_csv/on_clean.csv\", index=False, sep=',')"
      ],
      "execution_count": 0,
      "outputs": []
    },
    {
      "cell_type": "code",
      "metadata": {
        "id": "rR41DVCLoDQj",
        "colab_type": "code",
        "colab": {}
      },
      "source": [
        "df_off = dataset_off.iloc[:,2:7].copy() \n",
        "df_off.head()\n",
        "df_off.to_csv(\"drive/My Drive/INTERN/socis/CNN/clean_images_to_csv/off_clean.csv\", index=False, sep=',')"
      ],
      "execution_count": 0,
      "outputs": []
    },
    {
      "cell_type": "code",
      "metadata": {
        "id": "XUFLJyvlosOS",
        "colab_type": "code",
        "outputId": "3d0a9ca0-ac76-4df8-a31f-2a01a4a8c73a",
        "colab": {
          "base_uri": "https://localhost:8080/",
          "height": 221
        }
      },
      "source": [
        "df_off.head()"
      ],
      "execution_count": 0,
      "outputs": [
        {
          "output_type": "execute_result",
          "data": {
            "text/html": [
              "<div>\n",
              "<style scoped>\n",
              "    .dataframe tbody tr th:only-of-type {\n",
              "        vertical-align: middle;\n",
              "    }\n",
              "\n",
              "    .dataframe tbody tr th {\n",
              "        vertical-align: top;\n",
              "    }\n",
              "\n",
              "    .dataframe thead th {\n",
              "        text-align: right;\n",
              "    }\n",
              "</style>\n",
              "<table border=\"1\" class=\"dataframe\">\n",
              "  <thead>\n",
              "    <tr style=\"text-align: right;\">\n",
              "      <th></th>\n",
              "      <th>Path</th>\n",
              "      <th>power_state_value</th>\n",
              "      <th>current_rise/fall_time_value (mS)</th>\n",
              "      <th>current_stabilised_value (mA)</th>\n",
              "      <th>current_max/min_value (mA)</th>\n",
              "    </tr>\n",
              "  </thead>\n",
              "  <tbody>\n",
              "    <tr>\n",
              "      <th>0</th>\n",
              "      <td>OFF_2_20181031_173628_104.bmp</td>\n",
              "      <td>0</td>\n",
              "      <td>7.992</td>\n",
              "      <td>30.0</td>\n",
              "      <td>-56.0</td>\n",
              "    </tr>\n",
              "    <tr>\n",
              "      <th>1</th>\n",
              "      <td>OFF_4_20181031_173921_104.bmp</td>\n",
              "      <td>0</td>\n",
              "      <td>7.997</td>\n",
              "      <td>30.0</td>\n",
              "      <td>-58.0</td>\n",
              "    </tr>\n",
              "    <tr>\n",
              "      <th>2</th>\n",
              "      <td>OFF_2_20181102_084723_103.bmp</td>\n",
              "      <td>0</td>\n",
              "      <td>8.0</td>\n",
              "      <td>56.4</td>\n",
              "      <td>-32.0</td>\n",
              "    </tr>\n",
              "    <tr>\n",
              "      <th>3</th>\n",
              "      <td>OFF_4_20181102_085018_103.bmp</td>\n",
              "      <td>0</td>\n",
              "      <td>8.0</td>\n",
              "      <td>58.0</td>\n",
              "      <td>-28.0</td>\n",
              "    </tr>\n",
              "    <tr>\n",
              "      <th>4</th>\n",
              "      <td>OFF_2_20181102_090016_102.bmp</td>\n",
              "      <td>0</td>\n",
              "      <td>4.377</td>\n",
              "      <td>55.1</td>\n",
              "      <td>-26.4219</td>\n",
              "    </tr>\n",
              "  </tbody>\n",
              "</table>\n",
              "</div>"
            ],
            "text/plain": [
              "                            Path  ... current_max/min_value (mA)\n",
              "0  OFF_2_20181031_173628_104.bmp  ...                      -56.0\n",
              "1  OFF_4_20181031_173921_104.bmp  ...                      -58.0\n",
              "2  OFF_2_20181102_084723_103.bmp  ...                      -32.0\n",
              "3  OFF_4_20181102_085018_103.bmp  ...                      -28.0\n",
              "4  OFF_2_20181102_090016_102.bmp  ...                   -26.4219\n",
              "\n",
              "[5 rows x 5 columns]"
            ]
          },
          "metadata": {
            "tags": []
          },
          "execution_count": 12
        }
      ]
    },
    {
      "cell_type": "code",
      "metadata": {
        "id": "HsrmN7NfpQ7_",
        "colab_type": "code",
        "colab": {}
      },
      "source": [
        ""
      ],
      "execution_count": 0,
      "outputs": []
    }
  ]
}