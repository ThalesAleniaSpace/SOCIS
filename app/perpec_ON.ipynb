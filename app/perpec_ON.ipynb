{
 "cells": [
  {
   "cell_type": "code",
   "execution_count": 1,
   "metadata": {
    "colab": {
     "base_uri": "https://localhost:8080/",
     "height": 54
    },
    "colab_type": "code",
    "id": "lXfPT7BuejLb",
    "outputId": "c6808d39-90c9-4ac3-a567-15d716059419"
   },
   "outputs": [],
   "source": [
    "# # Run this cell to mount your Google Drive.\n",
    "# from google.colab import drive\n",
    "# drive.mount('/content/drive')"
   ]
  },
  {
   "cell_type": "code",
   "execution_count": 2,
   "metadata": {
    "colab": {
     "base_uri": "https://localhost:8080/",
     "height": 34
    },
    "colab_type": "code",
    "id": "819EGBI8fLUl",
    "outputId": "93d6fddc-7353-4a53-d34e-1427242fa67d"
   },
   "outputs": [
    {
     "name": "stderr",
     "output_type": "stream",
     "text": [
      "Using TensorFlow backend.\n"
     ]
    }
   ],
   "source": [
    "\n",
    "import pandas as pd \n",
    "import numpy as np\n",
    "import matplotlib.pyplot as plt\n",
    "from sklearn import preprocessing \n",
    "from keras.models import Sequential\n",
    "from keras.layers import Dense, Dropout, BatchNormalization\n",
    "from keras.wrappers.scikit_learn import KerasRegressor\n",
    "\n",
    "from sklearn.model_selection import cross_val_score\n",
    "from sklearn.model_selection import KFold\n",
    "from sklearn.preprocessing import StandardScaler\n",
    "from sklearn.pipeline import Pipeline\n",
    "import tensorflow as tf\n",
    "\n",
    "from sklearn.feature_selection import VarianceThreshold\n",
    "# from keras.backend import manual_variable_initialization \n",
    "# # manual_variable_initialization(True)"
   ]
  },
  {
   "cell_type": "code",
   "execution_count": null,
   "metadata": {
    "colab": {},
    "colab_type": "code",
    "id": "N1bkqWDgXIbi"
   },
   "outputs": [],
   "source": []
  },
  {
   "cell_type": "code",
   "execution_count": 3,
   "metadata": {
    "colab": {
     "base_uri": "https://localhost:8080/",
     "height": 246
    },
    "colab_type": "code",
    "id": "RgWz2tXdfNax",
    "outputId": "50345be1-3694-4638-a873-88697a7d0bc7"
   },
   "outputs": [
    {
     "ename": "FileNotFoundError",
     "evalue": "[Errno 2] File b'points.csv' does not exist: b'points.csv'",
     "output_type": "error",
     "traceback": [
      "\u001b[0;31m---------------------------------------------------------------------------\u001b[0m",
      "\u001b[0;31mFileNotFoundError\u001b[0m                         Traceback (most recent call last)",
      "\u001b[0;32m<ipython-input-3-d85f847653f7>\u001b[0m in \u001b[0;36m<module>\u001b[0;34m\u001b[0m\n\u001b[0;32m----> 1\u001b[0;31m \u001b[0mdata_p\u001b[0m \u001b[0;34m=\u001b[0m \u001b[0mpd\u001b[0m\u001b[0;34m.\u001b[0m\u001b[0mread_csv\u001b[0m\u001b[0;34m(\u001b[0m\u001b[0;34m\"points.csv\"\u001b[0m\u001b[0;34m,\u001b[0m\u001b[0mdtype\u001b[0m\u001b[0;34m=\u001b[0m\u001b[0mobject\u001b[0m\u001b[0;34m,\u001b[0m\u001b[0merror_bad_lines\u001b[0m\u001b[0;34m=\u001b[0m\u001b[0;32mFalse\u001b[0m\u001b[0;34m)\u001b[0m\u001b[0;34m\u001b[0m\u001b[0;34m\u001b[0m\u001b[0m\n\u001b[0m\u001b[1;32m      2\u001b[0m \u001b[0mdata_p\u001b[0m\u001b[0;34m.\u001b[0m\u001b[0mhead\u001b[0m\u001b[0;34m(\u001b[0m\u001b[0;34m)\u001b[0m\u001b[0;34m\u001b[0m\u001b[0;34m\u001b[0m\u001b[0m\n\u001b[1;32m      3\u001b[0m \u001b[0mdata_p\u001b[0m\u001b[0;34m[\u001b[0m\u001b[0;34m\"id\"\u001b[0m\u001b[0;34m]\u001b[0m \u001b[0;34m=\u001b[0m \u001b[0mdata_p\u001b[0m\u001b[0;34m[\u001b[0m\u001b[0;34m\"id\"\u001b[0m\u001b[0;34m]\u001b[0m\u001b[0;34m.\u001b[0m\u001b[0mmap\u001b[0m\u001b[0;34m(\u001b[0m\u001b[0mstr\u001b[0m\u001b[0;34m)\u001b[0m \u001b[0;34m+\u001b[0m\u001b[0;34m\"_\"\u001b[0m\u001b[0;34m+\u001b[0m \u001b[0mdata_p\u001b[0m\u001b[0;34m[\u001b[0m\u001b[0;34m\"dir\"\u001b[0m\u001b[0;34m]\u001b[0m\u001b[0;34m\u001b[0m\u001b[0;34m\u001b[0m\u001b[0m\n\u001b[1;32m      4\u001b[0m \u001b[0mdata_p\u001b[0m\u001b[0;34m.\u001b[0m\u001b[0mhead\u001b[0m\u001b[0;34m(\u001b[0m\u001b[0;34m)\u001b[0m\u001b[0;34m\u001b[0m\u001b[0;34m\u001b[0m\u001b[0m\n\u001b[1;32m      5\u001b[0m \u001b[0;31m# data_p.dtypes\u001b[0m\u001b[0;34m\u001b[0m\u001b[0;34m\u001b[0m\u001b[0;34m\u001b[0m\u001b[0m\n",
      "\u001b[0;32m/usr/local/lib/python3.7/site-packages/pandas/io/parsers.py\u001b[0m in \u001b[0;36mparser_f\u001b[0;34m(filepath_or_buffer, sep, delimiter, header, names, index_col, usecols, squeeze, prefix, mangle_dupe_cols, dtype, engine, converters, true_values, false_values, skipinitialspace, skiprows, skipfooter, nrows, na_values, keep_default_na, na_filter, verbose, skip_blank_lines, parse_dates, infer_datetime_format, keep_date_col, date_parser, dayfirst, iterator, chunksize, compression, thousands, decimal, lineterminator, quotechar, quoting, doublequote, escapechar, comment, encoding, dialect, tupleize_cols, error_bad_lines, warn_bad_lines, delim_whitespace, low_memory, memory_map, float_precision)\u001b[0m\n\u001b[1;32m    700\u001b[0m                     skip_blank_lines=skip_blank_lines)\n\u001b[1;32m    701\u001b[0m \u001b[0;34m\u001b[0m\u001b[0m\n\u001b[0;32m--> 702\u001b[0;31m         \u001b[0;32mreturn\u001b[0m \u001b[0m_read\u001b[0m\u001b[0;34m(\u001b[0m\u001b[0mfilepath_or_buffer\u001b[0m\u001b[0;34m,\u001b[0m \u001b[0mkwds\u001b[0m\u001b[0;34m)\u001b[0m\u001b[0;34m\u001b[0m\u001b[0;34m\u001b[0m\u001b[0m\n\u001b[0m\u001b[1;32m    703\u001b[0m \u001b[0;34m\u001b[0m\u001b[0m\n\u001b[1;32m    704\u001b[0m     \u001b[0mparser_f\u001b[0m\u001b[0;34m.\u001b[0m\u001b[0m__name__\u001b[0m \u001b[0;34m=\u001b[0m \u001b[0mname\u001b[0m\u001b[0;34m\u001b[0m\u001b[0;34m\u001b[0m\u001b[0m\n",
      "\u001b[0;32m/usr/local/lib/python3.7/site-packages/pandas/io/parsers.py\u001b[0m in \u001b[0;36m_read\u001b[0;34m(filepath_or_buffer, kwds)\u001b[0m\n\u001b[1;32m    427\u001b[0m \u001b[0;34m\u001b[0m\u001b[0m\n\u001b[1;32m    428\u001b[0m     \u001b[0;31m# Create the parser.\u001b[0m\u001b[0;34m\u001b[0m\u001b[0;34m\u001b[0m\u001b[0;34m\u001b[0m\u001b[0m\n\u001b[0;32m--> 429\u001b[0;31m     \u001b[0mparser\u001b[0m \u001b[0;34m=\u001b[0m \u001b[0mTextFileReader\u001b[0m\u001b[0;34m(\u001b[0m\u001b[0mfilepath_or_buffer\u001b[0m\u001b[0;34m,\u001b[0m \u001b[0;34m**\u001b[0m\u001b[0mkwds\u001b[0m\u001b[0;34m)\u001b[0m\u001b[0;34m\u001b[0m\u001b[0;34m\u001b[0m\u001b[0m\n\u001b[0m\u001b[1;32m    430\u001b[0m \u001b[0;34m\u001b[0m\u001b[0m\n\u001b[1;32m    431\u001b[0m     \u001b[0;32mif\u001b[0m \u001b[0mchunksize\u001b[0m \u001b[0;32mor\u001b[0m \u001b[0miterator\u001b[0m\u001b[0;34m:\u001b[0m\u001b[0;34m\u001b[0m\u001b[0;34m\u001b[0m\u001b[0m\n",
      "\u001b[0;32m/usr/local/lib/python3.7/site-packages/pandas/io/parsers.py\u001b[0m in \u001b[0;36m__init__\u001b[0;34m(self, f, engine, **kwds)\u001b[0m\n\u001b[1;32m    893\u001b[0m             \u001b[0mself\u001b[0m\u001b[0;34m.\u001b[0m\u001b[0moptions\u001b[0m\u001b[0;34m[\u001b[0m\u001b[0;34m'has_index_names'\u001b[0m\u001b[0;34m]\u001b[0m \u001b[0;34m=\u001b[0m \u001b[0mkwds\u001b[0m\u001b[0;34m[\u001b[0m\u001b[0;34m'has_index_names'\u001b[0m\u001b[0;34m]\u001b[0m\u001b[0;34m\u001b[0m\u001b[0;34m\u001b[0m\u001b[0m\n\u001b[1;32m    894\u001b[0m \u001b[0;34m\u001b[0m\u001b[0m\n\u001b[0;32m--> 895\u001b[0;31m         \u001b[0mself\u001b[0m\u001b[0;34m.\u001b[0m\u001b[0m_make_engine\u001b[0m\u001b[0;34m(\u001b[0m\u001b[0mself\u001b[0m\u001b[0;34m.\u001b[0m\u001b[0mengine\u001b[0m\u001b[0;34m)\u001b[0m\u001b[0;34m\u001b[0m\u001b[0;34m\u001b[0m\u001b[0m\n\u001b[0m\u001b[1;32m    896\u001b[0m \u001b[0;34m\u001b[0m\u001b[0m\n\u001b[1;32m    897\u001b[0m     \u001b[0;32mdef\u001b[0m \u001b[0mclose\u001b[0m\u001b[0;34m(\u001b[0m\u001b[0mself\u001b[0m\u001b[0;34m)\u001b[0m\u001b[0;34m:\u001b[0m\u001b[0;34m\u001b[0m\u001b[0;34m\u001b[0m\u001b[0m\n",
      "\u001b[0;32m/usr/local/lib/python3.7/site-packages/pandas/io/parsers.py\u001b[0m in \u001b[0;36m_make_engine\u001b[0;34m(self, engine)\u001b[0m\n\u001b[1;32m   1120\u001b[0m     \u001b[0;32mdef\u001b[0m \u001b[0m_make_engine\u001b[0m\u001b[0;34m(\u001b[0m\u001b[0mself\u001b[0m\u001b[0;34m,\u001b[0m \u001b[0mengine\u001b[0m\u001b[0;34m=\u001b[0m\u001b[0;34m'c'\u001b[0m\u001b[0;34m)\u001b[0m\u001b[0;34m:\u001b[0m\u001b[0;34m\u001b[0m\u001b[0;34m\u001b[0m\u001b[0m\n\u001b[1;32m   1121\u001b[0m         \u001b[0;32mif\u001b[0m \u001b[0mengine\u001b[0m \u001b[0;34m==\u001b[0m \u001b[0;34m'c'\u001b[0m\u001b[0;34m:\u001b[0m\u001b[0;34m\u001b[0m\u001b[0;34m\u001b[0m\u001b[0m\n\u001b[0;32m-> 1122\u001b[0;31m             \u001b[0mself\u001b[0m\u001b[0;34m.\u001b[0m\u001b[0m_engine\u001b[0m \u001b[0;34m=\u001b[0m \u001b[0mCParserWrapper\u001b[0m\u001b[0;34m(\u001b[0m\u001b[0mself\u001b[0m\u001b[0;34m.\u001b[0m\u001b[0mf\u001b[0m\u001b[0;34m,\u001b[0m \u001b[0;34m**\u001b[0m\u001b[0mself\u001b[0m\u001b[0;34m.\u001b[0m\u001b[0moptions\u001b[0m\u001b[0;34m)\u001b[0m\u001b[0;34m\u001b[0m\u001b[0;34m\u001b[0m\u001b[0m\n\u001b[0m\u001b[1;32m   1123\u001b[0m         \u001b[0;32melse\u001b[0m\u001b[0;34m:\u001b[0m\u001b[0;34m\u001b[0m\u001b[0;34m\u001b[0m\u001b[0m\n\u001b[1;32m   1124\u001b[0m             \u001b[0;32mif\u001b[0m \u001b[0mengine\u001b[0m \u001b[0;34m==\u001b[0m \u001b[0;34m'python'\u001b[0m\u001b[0;34m:\u001b[0m\u001b[0;34m\u001b[0m\u001b[0;34m\u001b[0m\u001b[0m\n",
      "\u001b[0;32m/usr/local/lib/python3.7/site-packages/pandas/io/parsers.py\u001b[0m in \u001b[0;36m__init__\u001b[0;34m(self, src, **kwds)\u001b[0m\n\u001b[1;32m   1851\u001b[0m         \u001b[0mkwds\u001b[0m\u001b[0;34m[\u001b[0m\u001b[0;34m'usecols'\u001b[0m\u001b[0;34m]\u001b[0m \u001b[0;34m=\u001b[0m \u001b[0mself\u001b[0m\u001b[0;34m.\u001b[0m\u001b[0musecols\u001b[0m\u001b[0;34m\u001b[0m\u001b[0;34m\u001b[0m\u001b[0m\n\u001b[1;32m   1852\u001b[0m \u001b[0;34m\u001b[0m\u001b[0m\n\u001b[0;32m-> 1853\u001b[0;31m         \u001b[0mself\u001b[0m\u001b[0;34m.\u001b[0m\u001b[0m_reader\u001b[0m \u001b[0;34m=\u001b[0m \u001b[0mparsers\u001b[0m\u001b[0;34m.\u001b[0m\u001b[0mTextReader\u001b[0m\u001b[0;34m(\u001b[0m\u001b[0msrc\u001b[0m\u001b[0;34m,\u001b[0m \u001b[0;34m**\u001b[0m\u001b[0mkwds\u001b[0m\u001b[0;34m)\u001b[0m\u001b[0;34m\u001b[0m\u001b[0;34m\u001b[0m\u001b[0m\n\u001b[0m\u001b[1;32m   1854\u001b[0m         \u001b[0mself\u001b[0m\u001b[0;34m.\u001b[0m\u001b[0munnamed_cols\u001b[0m \u001b[0;34m=\u001b[0m \u001b[0mself\u001b[0m\u001b[0;34m.\u001b[0m\u001b[0m_reader\u001b[0m\u001b[0;34m.\u001b[0m\u001b[0munnamed_cols\u001b[0m\u001b[0;34m\u001b[0m\u001b[0;34m\u001b[0m\u001b[0m\n\u001b[1;32m   1855\u001b[0m \u001b[0;34m\u001b[0m\u001b[0m\n",
      "\u001b[0;32mpandas/_libs/parsers.pyx\u001b[0m in \u001b[0;36mpandas._libs.parsers.TextReader.__cinit__\u001b[0;34m()\u001b[0m\n",
      "\u001b[0;32mpandas/_libs/parsers.pyx\u001b[0m in \u001b[0;36mpandas._libs.parsers.TextReader._setup_parser_source\u001b[0;34m()\u001b[0m\n",
      "\u001b[0;31mFileNotFoundError\u001b[0m: [Errno 2] File b'points.csv' does not exist: b'points.csv'"
     ]
    }
   ],
   "source": [
    "data_p = pd.read_csv(\"points.csv\",dtype=object,error_bad_lines=False) \n",
    "data_p.head()\n",
    "data_p[\"id\"] = data_p[\"id\"].map(str) +\"_\"+ data_p[\"dir\"]\n",
    "data_p.head()\n",
    "# data_p.dtypes"
   ]
  },
  {
   "cell_type": "code",
   "execution_count": null,
   "metadata": {
    "colab": {
     "base_uri": "https://localhost:8080/",
     "height": 234
    },
    "colab_type": "code",
    "id": "zRQG6QqkfPaM",
    "outputId": "7e2cdf06-3933-4496-c78e-813e4afed97b"
   },
   "outputs": [],
   "source": [
    "\n",
    "data_v = pd.read_csv(\"values.csv\",dtype=object,error_bad_lines=False )\n",
    "le = preprocessing.LabelEncoder()\n",
    "\n",
    "data_v['power_state_spec'] = le.fit_transform(data_v['power_state_spec'].astype('str'))\n",
    "\n",
    "data_v['power_state_value'] = le.fit_transform(data_v['power_state_value'].astype('str'))\n",
    "data_v[\"id\"] = data_v[\"id\"].map(str) +\"_\"+data_v[\"dir\"]\n",
    "data_v.head()"
   ]
  },
  {
   "cell_type": "code",
   "execution_count": null,
   "metadata": {
    "colab": {},
    "colab_type": "code",
    "id": "SS5hHAvgfRzw"
   },
   "outputs": [],
   "source": [
    "arr_v = data_v.values\n",
    "arr_p = data_p.values"
   ]
  },
  {
   "cell_type": "code",
   "execution_count": null,
   "metadata": {
    "colab": {},
    "colab_type": "code",
    "id": "TSE1FojVfUlN"
   },
   "outputs": [],
   "source": [
    "arr_v = arr_v[0:]\n",
    "# print(arr_v)\n",
    "arr_p = arr_p[0:]\n",
    "# print(arr_p)"
   ]
  },
  {
   "cell_type": "code",
   "execution_count": null,
   "metadata": {
    "colab": {
     "base_uri": "https://localhost:8080/",
     "height": 52
    },
    "colab_type": "code",
    "id": "pZMozxZNfdAU",
    "outputId": "1371ad9a-922e-48c1-833a-a5cfa5c01b81"
   },
   "outputs": [],
   "source": [
    "ON_list =[]\n",
    "OFF_list = []\n",
    "for i in range(len(arr_p)):\n",
    "    s = arr_p[i][1]\n",
    "    s = str(s)\n",
    "    \n",
    "#     print(type(st))\n",
    "    if s.find(\"N\") == -1:\n",
    "        OFF_list.append(arr_p[i])\n",
    "    \n",
    "    else:\n",
    "        ON_list.append(arr_p[i])\n",
    "# calculating for ON\n",
    "print(len(ON_list),\"ON\")\n",
    "print(len(OFF_list),\"OFF\")\n",
    "arr_on_p = np.array(ON_list)\n",
    "# print(arr_on_p)"
   ]
  },
  {
   "cell_type": "code",
   "execution_count": null,
   "metadata": {
    "colab": {},
    "colab_type": "code",
    "id": "Hbaq7jn6fde0"
   },
   "outputs": [],
   "source": [
    "arr_on_p = np.delete(arr_on_p, 3,  axis=1)\n",
    "arr_on_p_n = arr_on_p[:, 1::2]\n",
    "arr_on_p_f = np.delete(arr_on_p_n, 1,  axis=1)\n",
    "# print(len(arr_on_p_f))\n",
    "# print(len(arr_on_p_f[0]))\n",
    "# print(arr_on_p_f[0])"
   ]
  },
  {
   "cell_type": "code",
   "execution_count": null,
   "metadata": {
    "colab": {
     "base_uri": "https://localhost:8080/",
     "height": 246
    },
    "colab_type": "code",
    "id": "nntpfcxlgZsO",
    "outputId": "d43b0254-360c-4905-dc50-0c58612e00d8"
   },
   "outputs": [],
   "source": [
    "data = arr_on_p_f\n",
    "\n",
    "df=pd.DataFrame(data=data[0:,0:],index=[i for i in range(data.shape[0])],\n",
    "                columns=['y'+str(i) for i in range(data.shape[1])])\n",
    "df.head()\n",
    "# df.dtypes\n"
   ]
  },
  {
   "cell_type": "code",
   "execution_count": null,
   "metadata": {
    "colab": {
     "base_uri": "https://localhost:8080/",
     "height": 300
    },
    "colab_type": "code",
    "id": "0SaXXr_ggcFp",
    "outputId": "ca27a21d-91be-4121-8efe-6dd58c9d8431"
   },
   "outputs": [],
   "source": [
    "print(df.shape)\n",
    "# for j in range(10000):\n",
    "#   var = \"y\"+str(j+1)\n",
    "#   df[var].fillna(df[var].mean(), inplace=True)\n",
    "df_no_miss = df.dropna()\n",
    "print(df_no_miss.shape)\n",
    "print(df.shape)\n",
    "df_no_miss.head()\n"
   ]
  },
  {
   "cell_type": "code",
   "execution_count": null,
   "metadata": {
    "colab": {
     "base_uri": "https://localhost:8080/",
     "height": 34
    },
    "colab_type": "code",
    "id": "VMYfPRjHghm3",
    "outputId": "dbf33109-20a1-436e-c2b4-9fb1621e1d18"
   },
   "outputs": [],
   "source": [
    "arr_p_no = df_no_miss.values\n",
    "print(len(arr_p_no))"
   ]
  },
  {
   "cell_type": "code",
   "execution_count": null,
   "metadata": {
    "colab": {
     "base_uri": "https://localhost:8080/",
     "height": 246
    },
    "colab_type": "code",
    "id": "LGF8F0segjoF",
    "outputId": "26312138-8059-4a36-e75b-69b8b4b3f616"
   },
   "outputs": [],
   "source": [
    "df1= df_no_miss.rename(index=str, columns={\"y0\": \"id\"})\n",
    "df1.head()"
   ]
  },
  {
   "cell_type": "code",
   "execution_count": null,
   "metadata": {
    "colab": {
     "base_uri": "https://localhost:8080/",
     "height": 52
    },
    "colab_type": "code",
    "id": "OgI9lWPHgl_2",
    "outputId": "a21663e5-9263-4230-fde2-1721c3984a23"
   },
   "outputs": [],
   "source": [
    "print(df1.shape)\n",
    "df2 = data_v\n",
    "# print(df2.shape)\n",
    "combine = (pd.merge(df1, df2, how='left', on='id'))\n",
    "# print(df1.unique)\n",
    "print(combine.shape)"
   ]
  },
  {
   "cell_type": "code",
   "execution_count": null,
   "metadata": {
    "colab": {
     "base_uri": "https://localhost:8080/",
     "height": 263
    },
    "colab_type": "code",
    "id": "_Frd3KdYgoVN",
    "outputId": "11f0509c-a31b-436c-cd41-7b3ddb0d17be"
   },
   "outputs": [],
   "source": [
    "combine.head()"
   ]
  },
  {
   "cell_type": "code",
   "execution_count": null,
   "metadata": {
    "colab": {
     "base_uri": "https://localhost:8080/",
     "height": 263
    },
    "colab_type": "code",
    "id": "djNeEIiPgq7w",
    "outputId": "d24ce3be-3c68-4aa6-ec6d-1bcd3bd0447d"
   },
   "outputs": [],
   "source": [
    "combine.iloc[:,0:10010].head()\n",
    "k = combine.drop(['s.no','dir','_file_'], axis = 1) \n",
    "\n",
    "k.head()"
   ]
  },
  {
   "cell_type": "code",
   "execution_count": null,
   "metadata": {
    "colab": {
     "base_uri": "https://localhost:8080/",
     "height": 263
    },
    "colab_type": "code",
    "id": "2vbEb4-ogtJg",
    "outputId": "65d9c504-b261-4ecd-9102-3883bcdc8782"
   },
   "outputs": [],
   "source": [
    "input_1 = k.iloc[:,0:10009]\n",
    "# filling the missing values\n",
    "\n",
    "# print(input_1.iloc[:,10008])\n",
    "miss = input_1.iloc[:,1:]\n",
    "miss.head()"
   ]
  },
  {
   "cell_type": "code",
   "execution_count": null,
   "metadata": {
    "colab": {
     "base_uri": "https://localhost:8080/",
     "height": 263
    },
    "colab_type": "code",
    "id": "5i0q3j2zgvS1",
    "outputId": "d7bdae54-970a-43dc-ddb0-69ff22e33f91"
   },
   "outputs": [],
   "source": [
    "input_1 = k.iloc[:,0:10009]\n",
    "# filling the missing values\n",
    "\n",
    "miss = input_1.iloc[:,1:]\n",
    "miss.head()\n",
    "\n",
    "\n",
    "\n",
    "  \n",
    "for column in (miss.iloc[:,10000:]):\n",
    "  su = 0\n",
    "  div = 0\n",
    "  for r in range(miss.shape[0]):\n",
    "    if (pd.isna(miss[column][r]))== False:\n",
    "      su = float(miss[column][r])+su\n",
    "\n",
    "      div = div+1\n",
    "\n",
    "  fin = float(su/div)\n",
    "\n",
    "  miss[column].fillna(float(fin),inplace=True)\n",
    "#########converting ever\n",
    "# thing into float\n",
    "miss =miss.astype('float64')\n",
    "# print(miss.dtypes)\n",
    "miss.head()\n"
   ]
  },
  {
   "cell_type": "code",
   "execution_count": null,
   "metadata": {
    "colab": {},
    "colab_type": "code",
    "id": "jBZnARyHgyfK"
   },
   "outputs": [],
   "source": [
    "import pandas as pd\n",
    "from sklearn.ensemble.forest import RandomForestRegressor\n",
    "from sklearn.model_selection import train_test_split\n",
    "from sklearn.feature_selection import SelectFromModel\n",
    "from sklearn.preprocessing import MinMaxScaler\n",
    "from sklearn.preprocessing import Normalizer\n",
    "from sklearn.preprocessing import QuantileTransformer\n",
    "from sklearn.preprocessing import StandardScaler\n",
    "from sklearn.preprocessing import RobustScaler\n",
    "from sklearn.preprocessing import robust_scale\n",
    "\n",
    "scaler_min_x = MinMaxScaler()\n",
    "scaler_min_y = MinMaxScaler()\n",
    "\n",
    "scaler_norm_x = Normalizer()\n",
    "scaler_norm_y = Normalizer()\n",
    "\n",
    "scaler_stan_x = StandardScaler()\n",
    "scaler_stan_y = StandardScaler()\n",
    "\n",
    "scalar_qt_x =QuantileTransformer(output_distribution='uniform')\n",
    "scalar_qt_y =QuantileTransformer(output_distribution='uniform')\n",
    "       "
   ]
  },
  {
   "cell_type": "code",
   "execution_count": null,
   "metadata": {
    "colab": {
     "base_uri": "https://localhost:8080/",
     "height": 161
    },
    "colab_type": "code",
    "id": "eyHICz0yg2BJ",
    "outputId": "67294fc3-9c83-42a2-dc0a-261d494b5951"
   },
   "outputs": [],
   "source": [
    "rand_na = miss\n",
    "# print(miss.shape)\n",
    "input_1_arr = rand_na.values\n",
    "input_1_arr[:,:]= input_1_arr[:,:].astype('float64')\n",
    "\n",
    "X = input_1_arr[:,0:10000]*1000\n",
    "Y = input_1_arr[:,10002:10004]\n",
    "# print(X.shape)\n",
    "# print(Y.shape)\n",
    "# print(Y)\n",
    "y=np.reshape(Y, (-1,1))\n",
    "\n",
    "# X_train, X_test, y_train, y_test = train_test_split(X, Y, test_size=0.20)\n",
    "X_train= X\n",
    "y_train= Y\n",
    "\n",
    "\n",
    "# ######minmax\n",
    "scaler_min_x = MinMaxScaler().fit(X_train)\n",
    "scaler_min_y = MinMaxScaler().fit(y_train)\n",
    "\n",
    "X_minmax_train = scaler_min_x.transform(X_train)\n",
    "Y_minmax_train = scaler_min_y.transform(y_train)\n",
    "\n",
    "\n",
    "# print(X)\n",
    "# print(Y)\n",
    "#####standard\n",
    "\n",
    "scaler_stan_x = StandardScaler().fit(X_train)\n",
    "scaler_stan_y = StandardScaler().fit(y_train)\n",
    "\n",
    "\n",
    "X_stan_train = scaler_stan_x.transform(X_train)\n",
    "Y_stan_train = scaler_stan_y.transform(y_train)\n",
    "\n",
    "#######normlised\n",
    "scaler_norm_x = Normalizer().fit(X_train)\n",
    "scaler_norm_y = Normalizer().fit(y_train)\n",
    "\n",
    "\n",
    "X_norm_train = scaler_norm_x.transform(X_train)\n",
    "Y_norm_train = scaler_norm_y.transform(y_train)\n",
    "\n",
    "\n",
    "# ################qt\n",
    "\n",
    "scaler_qt_x =  QuantileTransformer(output_distribution='normal').fit(X_train)\n",
    "scaler_qt_y =  QuantileTransformer(output_distribution='normal').fit(y_train)\n",
    "\n",
    "\n",
    "X_qt_train = scaler_qt_x.transform(X_train)\n",
    "Y_qt_train = scaler_qt_y.transform(y_train)\n",
    "\n",
    "\n",
    "##robust\n",
    "\n",
    "##robust\n",
    "print(np.amax(X_train[0,:]))\n",
    "print(np.amax(y_train[0,:]))\n",
    "\n",
    "X_train = np.concatenate((X_train, y_train), axis=1)\n",
    "# print(np.amax(X_train[0,:]))\n",
    "X_train_t = X_train.transpose()\n",
    "# y_train_t = y_train.transpose()\n",
    "# print(X_train,\"after\")\n",
    "# print(y_train.shape,\"after\")\n",
    "\n",
    "scaler_rob_x = MinMaxScaler().fit(X_train_t)\n",
    "# scaler_rob_y = RobustScaler().fit(y_train_t)\n",
    "\n",
    "\n",
    "X_rob_train = scaler_rob_x.transform(X_train_t)\n",
    "# Y_rob_train = scaler_rob_x.transform(y_train_t)\n",
    "\n",
    "X_rob_train = X_rob_train.transpose()\n",
    "# Y_rob_train = Y_rob_train.transpose()\n",
    "\n",
    "print(X_rob_train.shape)\n",
    "# print(Y_rob_train.shape)\n",
    "# print(Y_rob_train)\n",
    "\n",
    "Y_rob_train = X_rob_train[:,10000:10002]\n",
    "X_rob_train = X_rob_train[:,0:10000]\n",
    "# print(Y_rob_train)\n",
    "# print(X_rob_train)"
   ]
  },
  {
   "cell_type": "code",
   "execution_count": null,
   "metadata": {
    "colab": {
     "base_uri": "https://localhost:8080/",
     "height": 34
    },
    "colab_type": "code",
    "id": "RlJlt7DghBIG",
    "outputId": "88bba53c-b75d-458f-cb84-41297679341b"
   },
   "outputs": [],
   "source": [
    "from sklearn.decomposition import FactorAnalysis\n",
    "\n",
    "transformer = FactorAnalysis(n_components=30, random_state=0)\n",
    "factor_fit = transformer.fit(X_rob_train)\n",
    "X_new = factor_fit.transform(X_rob_train)\n",
    "X_new.shape"
   ]
  },
  {
   "cell_type": "code",
   "execution_count": null,
   "metadata": {
    "colab": {},
    "colab_type": "code",
    "id": "D5rmicgppLVP"
   },
   "outputs": [],
   "source": [
    "\n",
    "import pickle\n",
    "pickle.dump(factor_fit, open( \"./app/MODEL/factor_fit_off.pkl\", \"wb\" ) )\n",
    "\n"
   ]
  },
  {
   "cell_type": "code",
   "execution_count": null,
   "metadata": {
    "colab": {},
    "colab_type": "code",
    "id": "1VKNQkEahFjV"
   },
   "outputs": [],
   "source": [
    "def baseline_model_30(optimizer='adam'):\n",
    "    # create model\n",
    "    model = Sequential()\n",
    "    model.add(Dense(28, activation='relu', \n",
    "                    kernel_initializer = 'he_normal', \n",
    "                    input_shape=(30,)))\n",
    "    model.add(BatchNormalization())\n",
    "#     model.add(Dropout(0.5))\n",
    "#     model.add(Dense(30, activation='relu',\n",
    "#                     kernel_initializer = 'he_normal'))\n",
    "#       model.add(BatchNormalization())\n",
    "#     model.add(Dropout(0.5))\n",
    "    model.add(Dense(12, activation='relu',\n",
    "                    kernel_initializer = 'he_normal'))\n",
    "    model.add(BatchNormalization())\n",
    "#     model.add(Dropout(0.5))\n",
    "    model.add(Dense(9, activation='relu',\n",
    "                    kernel_initializer = 'he_normal'))\n",
    "#     model.add(BatchNormalization())\n",
    "#     model.add(Dropout(0.5))\n",
    "    model.add(Dense(2, activation='linear', \n",
    "                    kernel_initializer='he_normal'))\n",
    "    model.compile(loss = 'mse', optimizer=optimizer, metrics=['mae'])\n",
    "#     model.summary()\n",
    "    return model\n"
   ]
  },
  {
   "cell_type": "code",
   "execution_count": null,
   "metadata": {
    "colab": {
     "base_uri": "https://localhost:8080/",
     "height": 1000
    },
    "colab_type": "code",
    "id": "4thveclshIbz",
    "outputId": "f1f13189-5035-4910-cd20-25a91590c6fa"
   },
   "outputs": [],
   "source": [
    "model = baseline_model_30()\n",
    "\n",
    "# print (model.get_weights())\n",
    "# estimator = train_data_nn(X_new, Y_rob_train)\n",
    "\n",
    "print(X_new.shape)\n",
    "print(y_train.shape)\n",
    "history = model.fit(X_new,  Y_rob_train, epochs=200, batch_size=5,  verbose=1, validation_split=0.0)"
   ]
  },
  {
   "cell_type": "code",
   "execution_count": null,
   "metadata": {
    "colab": {},
    "colab_type": "code",
    "id": "2KIpX4xqhVAU"
   },
   "outputs": [],
   "source": [
    "def visualize_learning_curve(history):\n",
    "    # list all data in history\n",
    "    print(history.history.keys())\n",
    "    # summarize history for accuracy\n",
    "    plt.plot(history.history['loss'])\n",
    "#     plt.plot(history.history['val_loss'])\n",
    "    plt.title('model loss')\n",
    "    plt.ylabel('loss')\n",
    "    plt.xlabel('epoch')\n",
    "    plt.legend(['train', 'validation'], loc='upper left')\n",
    "    plt.show()\n",
    "    # summarize history for loss\n",
    "    plt.plot(history.history['mean_absolute_error'])\n",
    "#     plt.plot(history.history['val_mean_absolute_error'])\n",
    "    plt.title('model mean_absolute_error')\n",
    "    plt.ylabel('mean_absolute_error')\n",
    "    plt.xlabel('epoch')\n",
    "    plt.legend(['train', 'validation'], loc='upper left')\n",
    "    plt.show()"
   ]
  },
  {
   "cell_type": "code",
   "execution_count": null,
   "metadata": {
    "colab": {},
    "colab_type": "code",
    "id": "I65fooUhhsKq"
   },
   "outputs": [],
   "source": [
    "\n",
    "# print(X_test.shape)\n",
    "# X_test_t = X_test.transpose()\n",
    "# print(X_test_t.shape)\n",
    "# scaler_rob_x = MinMaxScaler().fit(X_test_t)\n",
    "# X_new_test_t = scaler_rob_x.transform(X_test_t)\n",
    "# X_new_test = X_new_test_t.transpose()\n",
    "# print(X_new_test.shape)\n",
    "\n",
    "# y_test_t = y_test.transpose()\n",
    "# # scaler_rob_y = RobustScaler().fit(y_test_t)\n",
    "# Y_new_test_t = scaler_rob_x.transform(y_test_t)\n",
    "# Y_new_test = Y_new_test_t.transpose()\n",
    "\n",
    "# X_new_test = factor_fit.transform(X_new_test)\n",
    "# print(X_new_test.shape)\n",
    "\n",
    "# visualize_learning_curve(history)"
   ]
  },
  {
   "cell_type": "code",
   "execution_count": null,
   "metadata": {
    "colab": {
     "base_uri": "https://localhost:8080/",
     "height": 607
    },
    "colab_type": "code",
    "id": "46dPn9dGh0Cz",
    "outputId": "24cd3972-a178-4a49-b029-9d8e02fccd99"
   },
   "outputs": [],
   "source": [
    "from sklearn.metrics import mean_squared_error,mean_absolute_error\n",
    "import math\n",
    "# from sklearn.metrics import max_error\n",
    "\n",
    "pred = model.predict((X_new))\n",
    "# print(pred)\n",
    "\n",
    "mse = (mean_squared_error(Y_rob_train,pred))\n",
    "\n",
    "print(mse)\n",
    "visualize_learning_curve(history)"
   ]
  },
  {
   "cell_type": "code",
   "execution_count": null,
   "metadata": {
    "colab": {
     "base_uri": "https://localhost:8080/",
     "height": 1000
    },
    "colab_type": "code",
    "id": "pRkF_i2xh6JG",
    "outputId": "b5293546-9fcf-403c-c146-8c2746a0bc84"
   },
   "outputs": [],
   "source": [
    "\n",
    "X1 = input_1_arr[:,0:10000]*1000\n",
    "Y1 = input_1_arr[:,10000:10004]\n",
    "\n",
    "X=X1\n",
    "Y=Y1[:,2:4]\n",
    "# print(Y)\n",
    "Y_new = np.zeros((Y.shape[0],2))\n",
    "for i in range(len(Y)):\n",
    "  \n",
    "    print(Y[i],\"y\")\n",
    "  \n",
    "\n",
    "    X_t= X[i].transpose()\n",
    "\n",
    "    scaler_rob_x = MinMaxScaler().fit((X_t.reshape(-1, 1)))\n",
    "                        \n",
    "    Xi = (scaler_rob_x.transform(X_t.reshape(-1, 1)))\n",
    "\n",
    "    I = factor_fit.transform(Xi.transpose())\n",
    "\n",
    "    pred = model.predict(I)\n",
    "\n",
    "  \n",
    "    Y_ti =Y[i].transpose()\n",
    "\n",
    "#     scaler_rob_y = RobustScaler().fit(Y_ti.reshape(-1, 1))\n",
    "    final_t = scaler_rob_x.inverse_transform(pred.reshape(-1, 1))\n",
    "                                          \n",
    "\n",
    "    final = final_t.transpose()\n",
    "                                          \n",
    "    print(final[0])\n",
    "\n",
    "    h = abs(final-Y[i])\n",
    "#   print(h,\"h\")\n",
    "#     o=np.divide(h,Y[i])\n",
    "#   print(o*100,\"percentage\") \n",
    "  \n",
    "    Y_new[i]=final[0]\n"
   ]
  },
  {
   "cell_type": "code",
   "execution_count": null,
   "metadata": {
    "colab": {
     "base_uri": "https://localhost:8080/",
     "height": 70
    },
    "colab_type": "code",
    "id": "oTEoOJ1WjJ9T",
    "outputId": "183b55c6-fbfe-4a6e-f2fe-a201c83249d1"
   },
   "outputs": [],
   "source": [
    "X1 = X1\n",
    "Y1 = Y1\n",
    "# print(Y1)\n",
    "\n",
    "# print(Y)\n",
    "from sklearn.metrics import r2_score\n",
    "print(Y1[0,2], Y_new[0,0])\n",
    "# print(Y_new[:,0])\n",
    "g = r2_score(Y1[:,2], Y_new[:,0])  \n",
    "g1 = r2_score(Y1[:,3], Y_new[:,1]) \n",
    "print(g,\"r2 of stabilised\")\n",
    "print(g1,\"r2 of max\")\n",
    "Y1[:,2]= Y_new[:,0]\n",
    "Y1[:,3]= Y_new[:,1]\n",
    "print(Y1[0,2], Y_new[0,0])\n"
   ]
  },
  {
   "cell_type": "code",
   "execution_count": null,
   "metadata": {
    "colab": {
     "base_uri": "https://localhost:8080/",
     "height": 34
    },
    "colab_type": "code",
    "id": "-z59fc0rjqqp",
    "outputId": "6c9f781f-ff8a-4fb8-b8e7-126262f4b607"
   },
   "outputs": [],
   "source": [
    "\n",
    "X1_new = np.concatenate((X1,Y1[:,2:4]),axis=1)\n",
    "print(X1_new.shape)\n",
    "Y1_new = Y1[:,0:2]\n",
    "# print(Y1_new)\n",
    "# X_train_c, X_test_c, y_train_c, y_test_c = train_test_split(X1_new, Y1_new, test_size=0.20)\n",
    "X_train_c= X1_new\n",
    "y_train_c = Y1_new"
   ]
  },
  {
   "cell_type": "code",
   "execution_count": null,
   "metadata": {
    "colab": {},
    "colab_type": "code",
    "id": "w18N-Ahtj3zL"
   },
   "outputs": [],
   "source": [
    "#standardise\n",
    "\n",
    "\n",
    "# ######minmax\n",
    "scaler_min_x = MinMaxScaler().fit(X_train_c)\n",
    "scaler_min_y = MinMaxScaler().fit(y_train_c)\n",
    "\n",
    "X_minmax_train = scaler_min_x.transform(X_train_c)\n",
    "Y_minmax_train = scaler_min_y.transform(y_train_c)\n",
    "\n",
    "\n",
    "# print(X)\n",
    "# print(Y)\n",
    "#####standard\n",
    "\n",
    "scaler_stan_x = StandardScaler().fit(X_train_c)\n",
    "scaler_stan_y = StandardScaler().fit(y_train_c)\n",
    "\n",
    "\n",
    "X_stan_train = scaler_stan_x.transform(X_train_c)\n",
    "Y_stan_train = scaler_stan_y.transform(y_train_c)\n",
    "\n",
    "# #######normlised\n",
    "# scaler_norm_x = Normalizer().fit(X_train_c)\n",
    "# scaler_norm_y = Normalizer().fit(y_train_c)\n",
    "\n",
    "\n",
    "# X_norm_train = scaler_norm_x.transform(X_train_c)\n",
    "# Y_norm_train = scaler_norm_y.transform(y_train_c)\n",
    "\n",
    "\n",
    "# # ################qt\n",
    "\n",
    "# scaler_qt_x =  QuantileTransformer(output_distribution='normal').fit(X_train_c)\n",
    "# scaler_qt_y =  QuantileTransformer(output_distribution='normal').fit(y_train_c)\n",
    "\n",
    "\n",
    "# X_qt_train = scaler_qt_x.transform(X_train_c)\n",
    "# Y_qt_train = scaler_qt_y.transform(y_train_c)\n",
    "\n",
    "\n",
    "##robust\n",
    "# print(X_train.shape)\n",
    "# print(y_train.shape)\n",
    "# X_train_t = X_train.transpose()\n",
    "# y_train_t = y_train.transpose()\n",
    "# print(X_train.shape,\"after\")\n",
    "# print(y_train.shape,\"after\")\n",
    "scaler_rob_x = MinMaxScaler().fit(X_train_c)\n",
    "scaler_rob_y = MinMaxScaler().fit(y_train_c)\n",
    "\n",
    "\n",
    "# X_rob_train = scaler_rob_x.transform(X_train_c)\n",
    "# Y_rob_train = scaler_rob_y.transform(y_train_c)"
   ]
  },
  {
   "cell_type": "code",
   "execution_count": null,
   "metadata": {
    "colab": {},
    "colab_type": "code",
    "id": "gp-_qNnYplqA"
   },
   "outputs": [],
   "source": [
    "import pickle\n",
    "pickle.dump(scaler_rob_x, open( \"./app/MODEL/scaler_rob_x_1_OFF.pkl\", \"wb\" ) )\n",
    "pickle.dump(scaler_rob_y, open( \"./app/MODEL/scaler_rob_y_1_OFF.pkl\", \"wb\" ) )\n",
    "X_rob_train_c = scaler_rob_x.transform(X_train_c)\n",
    "Y_rob_train_c = scaler_rob_y.transform(y_train_c)\n",
    "\n"
   ]
  },
  {
   "cell_type": "code",
   "execution_count": null,
   "metadata": {
    "colab": {
     "base_uri": "https://localhost:8080/",
     "height": 52
    },
    "colab_type": "code",
    "id": "7CFgOiZdkHbW",
    "outputId": "cc05189c-42ff-4c34-c3e2-5632f0ea9bcb"
   },
   "outputs": [],
   "source": [
    "#apply PCA on X1_new\n",
    "transformer = FactorAnalysis(n_components=30, random_state=0)\n",
    "factor_fit = transformer.fit(X_rob_train_c[:,0:10000])\n",
    "X_new1 = factor_fit.transform(X_rob_train_c[:,0:10000])\n",
    "print(X_new1.shape)\n",
    "X_new1 = np.concatenate((X_new1,X_rob_train_c[:,10000:10002]),axis=1)\n",
    "print(X_new1.shape)\n",
    "# print((X_rob_train[:,0:10000].shape))"
   ]
  },
  {
   "cell_type": "code",
   "execution_count": null,
   "metadata": {
    "colab": {},
    "colab_type": "code",
    "id": "d7y6ga_Ap3xd"
   },
   "outputs": [],
   "source": []
  },
  {
   "cell_type": "code",
   "execution_count": null,
   "metadata": {
    "colab": {},
    "colab_type": "code",
    "id": "tk0ehMK0psFc"
   },
   "outputs": [],
   "source": [
    "import pickle\n",
    "pickle.dump(factor_fit, open( \"./app/MODEL/factor_fit_1_OFF.pkl\", \"wb\" ) )\n"
   ]
  },
  {
   "cell_type": "code",
   "execution_count": null,
   "metadata": {
    "colab": {},
    "colab_type": "code",
    "id": "l-vIsEvckQiI"
   },
   "outputs": [],
   "source": [
    "def baseline_model_31(optimizer='adam'):\n",
    "    # create model\n",
    "    model = Sequential()\n",
    "    model.add(Dense(30, activation='relu', \n",
    "                    kernel_initializer = 'he_normal', \n",
    "                    input_shape=(32,)))\n",
    "    model.add(BatchNormalization())\n",
    "    model.add(Dropout(0.5))\n",
    "#     model.add(Dense(30, activation='relu',\n",
    "#                     kernel_initializer = 'he_normal'))\n",
    "#       model.add(BatchNormalization())\n",
    "#     model.add(Dropout(0.5))\n",
    "    model.add(Dense(12, activation='relu',\n",
    "                    kernel_initializer = 'he_normal'))\n",
    "    model.add(BatchNormalization())\n",
    "#     model.add(Dropout(0.5))\n",
    "    model.add(Dense(9, activation='relu',\n",
    "                    kernel_initializer = 'he_normal'))\n",
    "    model.add(BatchNormalization())\n",
    "#     model.add(Dropout(0.5))\n",
    "    model.add(Dense(2, activation='linear', \n",
    "                    kernel_initializer='he_normal'))\n",
    "    model.compile(loss = 'mse', optimizer=optimizer, metrics=['mae'])\n",
    "#     model.summary()\n",
    "    return model\n",
    "\n"
   ]
  },
  {
   "cell_type": "code",
   "execution_count": null,
   "metadata": {
    "colab": {
     "base_uri": "https://localhost:8080/",
     "height": 1000
    },
    "colab_type": "code",
    "id": "nXZHDnp-kTGe",
    "outputId": "fa1ed4a9-2620-4af9-b2b6-9fb859f265e0"
   },
   "outputs": [],
   "source": [
    "model1 = baseline_model_31()\n",
    "\n",
    "# estimator1 = train_data_nn_1(X_new1, Y_rob_train)\n",
    "\n",
    "# print(X_new.shape)\n",
    "# print(y_train.shape)\n",
    "history = model1.fit(X_new1,  Y_rob_train_c, epochs=400, batch_size=5,  verbose=1, validation_split=0.0)"
   ]
  },
  {
   "cell_type": "code",
   "execution_count": null,
   "metadata": {
    "colab": {
     "base_uri": "https://localhost:8080/",
     "height": 625
    },
    "colab_type": "code",
    "id": "O1YTEBaakaUU",
    "outputId": "da7664ff-a38e-43cd-ff9a-d6874599cf22"
   },
   "outputs": [],
   "source": [
    "from sklearn.metrics import mean_squared_error,mean_absolute_error\n",
    "import math\n",
    "# from sklearn.metrics import max_error\n",
    "\n",
    "pred_c = model1.predict((X_new1))\n",
    "print(pred_c.shape)\n",
    "\n",
    "mse = (mean_squared_error(Y_rob_train,pred_c))\n",
    "\n",
    "print(mse)\n",
    "visualize_learning_curve(history)\n"
   ]
  },
  {
   "cell_type": "code",
   "execution_count": null,
   "metadata": {
    "colab": {
     "base_uri": "https://localhost:8080/",
     "height": 1000
    },
    "colab_type": "code",
    "id": "gXSgtNLckt4p",
    "outputId": "5a8d75e1-039a-4ec9-969d-35b75b4b4d4f"
   },
   "outputs": [],
   "source": [
    "for i in range(len(y_train_c)):\n",
    "  \n",
    "    print(y_train_c[i],\"ytest[i]\")\n",
    "#     print(X_train_c[i])\n",
    "    \n",
    "    X_c = (scaler_rob_x.transform(X_train_c[i].reshape(1, -1)))\n",
    "\n",
    "#     print(X_c)\n",
    "    I = factor_fit.transform(X_c[:,0:10000])\n",
    "    I = np.concatenate((I,X_c[:,10000:10002]),axis=1)\n",
    "#   print(I.shape,\"I shape\")\n",
    "\n",
    "    pred_c = model1.predict(I)\n",
    "#     print(pred_c,\"pred_c.shape\")\n",
    "  \n",
    " \n",
    "\n",
    "  \n",
    "    final = scaler_rob_y.inverse_transform(pred_c.reshape(1, -1))\n",
    "#     print(final,\"final\")                               \n",
    "    final[0][0]= np.abs(np.round(final[0][0]))\n",
    "                                          \n",
    "    print(final[0],\"final\")\n",
    "\n",
    "    h = abs(final[0]-y_train_c[i])"
   ]
  },
  {
   "cell_type": "code",
   "execution_count": null,
   "metadata": {
    "colab": {
     "base_uri": "https://localhost:8080/",
     "height": 1000
    },
    "colab_type": "code",
    "id": "mc1vcYm9k37j",
    "outputId": "7e978f24-b2ff-416d-98b6-d6f3120736d3"
   },
   "outputs": [],
   "source": [
    "\n",
    "from keras.backend import manual_variable_initialization \n",
    "manual_variable_initialization(True)\n",
    "model.save (\"./app/MODEL/my_model_OFF.h5\")\n",
    "model1.save (\"./app/MODEL/my_model_1_OFF.h5\")\n",
    "\n",
    "\n",
    "\n",
    "\n",
    "\n",
    "# print(model.get_weights())\n",
    "\n",
    "print (model1.get_weights())\n",
    "model1.save_weights(\"on_1.h5\")"
   ]
  },
  {
   "cell_type": "code",
   "execution_count": null,
   "metadata": {
    "colab": {},
    "colab_type": "code",
    "id": "jBGZMwMHlLXw"
   },
   "outputs": [],
   "source": [
    "# from keras.models import load_model\n",
    "# new_model = load_model('my_model_ON.h5')\n",
    "# new_model_1 = load_model('my_model_1_ON.h5')"
   ]
  },
  {
   "cell_type": "code",
   "execution_count": null,
   "metadata": {
    "colab": {},
    "colab_type": "code",
    "id": "uqP6qSVglPrH"
   },
   "outputs": [],
   "source": [
    "# pred = new_model_1.predict((X_new1))\n",
    "# print(pred.shape)\n",
    "\n",
    "# mse = (mean_squared_error(Y_rob_train,pred))\n",
    "\n",
    "# print(mse)"
   ]
  },
  {
   "cell_type": "code",
   "execution_count": null,
   "metadata": {
    "colab": {},
    "colab_type": "code",
    "id": "MPxe7WHNlSVb"
   },
   "outputs": [],
   "source": []
  },
  {
   "cell_type": "code",
   "execution_count": null,
   "metadata": {
    "colab": {},
    "colab_type": "code",
    "id": "g05oiTETLRCg"
   },
   "outputs": [],
   "source": []
  },
  {
   "cell_type": "code",
   "execution_count": null,
   "metadata": {},
   "outputs": [],
   "source": []
  }
 ],
 "metadata": {
  "colab": {
   "collapsed_sections": [],
   "name": "perpec_ON.ipynb",
   "provenance": [],
   "version": "0.3.2"
  },
  "kernelspec": {
   "display_name": "Python 3",
   "language": "python",
   "name": "python3"
  },
  "language_info": {
   "codemirror_mode": {
    "name": "ipython",
    "version": 3
   },
   "file_extension": ".py",
   "mimetype": "text/x-python",
   "name": "python",
   "nbconvert_exporter": "python",
   "pygments_lexer": "ipython3",
   "version": "3.7.4"
  }
 },
 "nbformat": 4,
 "nbformat_minor": 1
}
